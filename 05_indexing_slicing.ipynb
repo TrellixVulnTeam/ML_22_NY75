{
 "cells": [
  {
   "cell_type": "markdown",
   "metadata": {},
   "source": [
    "### Indexing and slicing data\n",
    "\n",
    "Python stores a value in an index, so reaching a particular value can refer to indexing. Accessing data in python can reach as a single value or accessing a group value (slicing)."
   ]
  },
  {
   "cell_type": "markdown",
   "metadata": {},
   "source": [
    "##### 1. Row-column-major order\n",
    "Even though python is flexible in accessing data both row-major and column-major orders, optimizing a computational speed should access the data using <font color=\"#EAC7B9\"> **row-major** </font> order due to the default in NumPy. \n",
    "\n",
    "<p align=\"center\">\n",
    "  <img src=\"pictures/row_col.png\" width=\"600\">\n",
    "</p>\n"
   ]
  },
  {
   "cell_type": "markdown",
   "metadata": {},
   "source": [
    "For example,\n",
    "\n",
    "$$\n",
    "\\displaystyle \\mathbf{A} =\\begin{bmatrix}\n",
    "1 & 2 & 3\\\\\n",
    "4 & 5 & 6\\\\\n",
    "7 & 8 & 9\n",
    "\\end{bmatrix}\n",
    "$$"
   ]
  },
  {
   "cell_type": "code",
   "execution_count": 6,
   "metadata": {},
   "outputs": [
    {
     "name": "stdout",
     "output_type": "stream",
     "text": [
      "[[1 2 3]\n",
      " [4 5 6]\n",
      " [7 8 9]]\n",
      "(3, 3)\n"
     ]
    }
   ],
   "source": [
    "import numpy as np\n",
    "\n",
    "A = np.array([\n",
    "    \t\t [1, 2, 3],\n",
    "    \t\t [4, 5, 6],\n",
    "    \t\t [7, 8, 9]\n",
    "       \t\t])\n",
    "\n",
    "print(A); print(A.shape) "
   ]
  },
  {
   "cell_type": "code",
   "execution_count": 2,
   "metadata": {},
   "outputs": [
    {
     "name": "stdout",
     "output_type": "stream",
     "text": [
      "1\n",
      "2\n",
      "3\n",
      "4\n",
      "5\n",
      "6\n",
      "7\n",
      "8\n",
      "9\n"
     ]
    }
   ],
   "source": [
    "# accessing as row-major order\n",
    "for row in range (0, A.shape[0]):\n",
    "\tfor col in range (0, A.shape[1]):\n",
    "\t\tprint(A[row, col])"
   ]
  },
  {
   "cell_type": "code",
   "execution_count": 3,
   "metadata": {},
   "outputs": [
    {
     "name": "stdout",
     "output_type": "stream",
     "text": [
      "1\n",
      "4\n",
      "7\n",
      "2\n",
      "5\n",
      "8\n",
      "3\n",
      "6\n",
      "9\n"
     ]
    }
   ],
   "source": [
    "# accessing as col-major order\n",
    "for col in range (0, A.shape[1]):\n",
    "\tfor row in range (0, A.shape[0]):\n",
    "\t\tprint(A[row, col])"
   ]
  },
  {
   "cell_type": "markdown",
   "metadata": {},
   "source": [
    "##### 2. Indexing\n",
    "Assume we have nine boxes, and each box contains one ball. In this scenario, we can use as a metaphor of matrix <font color=\"#EAC7B9\"> **A** </font>:  \n",
    "\n",
    "$$\n",
    "\\displaystyle \\mathbf{A} =\\begin{bmatrix}\n",
    "1 & 2 & 3\\\\\n",
    "4 & 5 & 6\\\\\n",
    "7 & 8 & 9\n",
    "\\end{bmatrix}\n",
    "$$\n",
    "\n",
    "where a box represents a <font color=\"#EAC7B9\"> **position** </font> and a ball refers to an <font color=\"#EAC7B9\"> **object** </font>, e.g., number and string. Indexing can call as positive or negative numbers.\n",
    "\n",
    "$$\n",
    "\\displaystyle \\mathbf{A} =\\begin{bmatrix}\n",
    "a_{0,\\ 0} & a_{0,\\ 1} & a_{0,\\ 2}\\\\\n",
    "a_{1,\\ 0} & a_{1,\\ 1} & a_{1,\\ 2}\\\\\n",
    "a_{2,\\ 0} & a_{2,\\ 1} & a_{2,\\ 2}\n",
    "\\end{bmatrix}\n",
    "$$\n",
    "\n",
    "$$\n",
    "\\displaystyle \\mathbf{A} =\\begin{bmatrix}\n",
    "a_{-3,\\ -3} & a_{-3,\\ -2} & a_{-3,\\ -1}\\\\\n",
    "a_{-2,\\ -3} & a_{-2,\\ -2} & a_{-2,-\\ 1}\\\\\n",
    "a_{-1,\\ -3} & a_{-1,\\ -2} & a_{-1,\\ -1}\n",
    "\\end{bmatrix}\n",
    "$$\n"
   ]
  },
  {
   "cell_type": "code",
   "execution_count": 1,
   "metadata": {},
   "outputs": [
    {
     "name": "stdout",
     "output_type": "stream",
     "text": [
      "value 8 index row:  2 index column:  1\n",
      "value 8 index row:  -1 index column:  -2\n"
     ]
    }
   ],
   "source": [
    "import numpy as np\n",
    "\n",
    "A = np.array([\n",
    "    \t\t [1, 2, 3],\n",
    "    \t\t [4, 5, 6],\n",
    "    \t\t [7, 8, 9]\n",
    "       \t\t])\n",
    "\n",
    "index_row = 2; index_col = 1\n",
    "print('value', A[index_row, index_col], 'index row: ', index_row, 'index column: ', index_col)\n",
    "index_row = -1; index_col = -2\n",
    "print('value', A[index_row, index_col], 'index row: ', index_row, 'index column: ', index_col)"
   ]
  },
  {
   "cell_type": "markdown",
   "metadata": {},
   "source": [
    "##### 3. Slicing\n",
    "\n",
    "Often, programmers need only some part of data to do operations, and python allows accessing data as a group, so-called slicing."
   ]
  },
  {
   "cell_type": "code",
   "execution_count": 22,
   "metadata": {},
   "outputs": [
    {
     "name": "stdout",
     "output_type": "stream",
     "text": [
      "last item in the array [7 8 9]\n",
      "last two items in the array [[4 5 6]\n",
      " [7 8 9]]\n",
      "everything except the last two items [[1 2 3]]\n",
      "all items in the array, reversed [[7 8 9]\n",
      " [4 5 6]\n",
      " [1 2 3]]\n",
      "the first two items, reversed [[4 5 6]\n",
      " [1 2 3]]\n",
      "the last two items, reversed [[7 8 9]\n",
      " [4 5 6]]\n",
      "start:stop [[1 2]\n",
      " [4 5]]\n",
      "start:stop:step [[1 3]\n",
      " [4 6]\n",
      " [7 9]]\n",
      "flatten 2D matrix [1 2 3 4 5 6 7 8 9]\n"
     ]
    }
   ],
   "source": [
    "import numpy as np\n",
    "\n",
    "A = np.array([\n",
    "    \t\t [1, 2, 3],\n",
    "    \t\t [4, 5, 6],\n",
    "    \t\t [7, 8, 9]\n",
    "       \t\t])\n",
    "\n",
    "print('last item in the array', A[-1])\n",
    "print('last two items in the array', A[-2:])\n",
    "print('everything except the last two items', A[:-2])\n",
    "print('all items in the array, reversed', A[::-1])\n",
    "print('the first two items, reversed', A[1::-1])\n",
    "print('the last two items, reversed', A[:-3:-1])\n",
    "print('start:stop', A[0:2, 0:2])\n",
    "print('start:stop:step', A[0:3:1, 0:3:2])\n",
    "print('flatten 2D matrix', A.flatten())"
   ]
  },
  {
   "cell_type": "markdown",
   "metadata": {},
   "source": [
    "##### Exercise: assume we have three superficial geological layers, and we would like to create a dike penetrating these layers. Use your geological knowledge to create this subsurface image."
   ]
  },
  {
   "cell_type": "code",
   "execution_count": 24,
   "metadata": {},
   "outputs": [
    {
     "data": {
      "text/plain": [
       "<matplotlib.colorbar.Colorbar at 0x7fe3c289d5d0>"
      ]
     },
     "execution_count": 24,
     "metadata": {},
     "output_type": "execute_result"
    },
    {
     "data": {
      "image/png": "[encoded data removed]",
      "text/plain": [
       "<Figure size 640x480 with 2 Axes>"
      ]
     },
     "metadata": {},
     "output_type": "display_data"
    }
   ],
   "source": [
    "import numpy as np\n",
    "import matplotlib.pyplot as plt\n",
    "\n",
    "layer = np.zeros(shape=(300, 300),\tdtype=float)\n",
    "layer[0:100, :]   = 2500 \n",
    "layer[100:200, :] = 3500 \n",
    "layer[200:300, :] = 4500\n",
    "\n",
    "# option 1: for-loop \n",
    "# for row in range (x, y):\n",
    "# \tfor col in range (x, y):\n",
    "# \t\tlayer[row, col] = <your idea>\n",
    "\n",
    "# option 2: slicing\n",
    "# layer[a:b, c:d] = <your idea>\n",
    "\n",
    "plt.imshow(layer, cmap='rainbow')\n",
    "plt.colorbar()"
   ]
  }
 ],
 "metadata": {
  "kernelspec": {
   "display_name": "Python 3.10.4 64-bit",
   "language": "python",
   "name": "python3"
  },
  "language_info": {
   "codemirror_mode": {
    "name": "ipython",
    "version": 3
   },
   "file_extension": ".py",
   "mimetype": "text/x-python",
   "name": "python",
   "nbconvert_exporter": "python",
   "pygments_lexer": "ipython3",
   "version": "3.10.4"
  },
  "orig_nbformat": 4,
  "vscode": {
   "interpreter": {
    "hash": "916dbcbb3f70747c44a77c7bcd40155683ae19c65e1c03b4aa3499c5328201f1"
   }
  }
 },
 "nbformat": 4,
 "nbformat_minor": 2
}
