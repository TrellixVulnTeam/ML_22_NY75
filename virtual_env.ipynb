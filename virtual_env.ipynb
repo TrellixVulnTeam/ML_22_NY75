{
 "cells": [
  {
   "cell_type": "markdown",
   "metadata": {},
   "source": [
    "### Setup virtual environment\n",
    "\n",
    "Ubuntu 20.04 requires update system beforehand.\\\n",
    "https://www.linuxcapable.com/how-to-setup-python-3-virtual-environment-on-ubuntu-20-04/\n",
    "\n",
    "```bat\n",
    "%% select Python version\n",
    "sudo apt install python3-venv  \n",
    "sudo apt install python3.9-venv  \n",
    "\n",
    "sudo mkdir virtual_env_ML_22\n",
    "cd virtual_env_ML_22\n",
    "\n",
    "python3 -m venv project_1 %% python 3.8\n",
    "python3.9 -m venv project_1 %% python 3.9\n",
    "\n",
    "python3 --version\n",
    "\n",
    "ls project_1\n",
    "source virtual_env_ML_22/project_1/bin/activate\n",
    "deactivate\n",
    "```\n",
    "\n"
   ]
  }
 ],
 "metadata": {
  "kernelspec": {
   "display_name": "Python 3.8.10 ('project_1': venv)",
   "language": "python",
   "name": "python3"
  },
  "language_info": {
   "codemirror_mode": {
    "name": "ipython",
    "version": 3
   },
   "file_extension": ".py",
   "mimetype": "text/x-python",
   "name": "python",
   "nbconvert_exporter": "python",
   "pygments_lexer": "ipython3",
   "version": "3.8.10"
  },
  "orig_nbformat": 4,
  "vscode": {
   "interpreter": {
    "hash": "6675ebe8d329347567c6ba0976f607b020e4800a700fa002b9c24629bc49987e"
   }
  }
 },
 "nbformat": 4,
 "nbformat_minor": 2
}
