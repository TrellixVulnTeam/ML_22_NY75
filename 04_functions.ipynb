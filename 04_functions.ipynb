{
 "cells": [
  {
   "cell_type": "markdown",
   "metadata": {},
   "source": [
    "[![Open In Colab](https://colab.research.google.com/assets/colab-badge.svg)](https://colab.research.google.com/github/PongthepGeo/ML_22/blob/master/04_functions.ipynb)"
   ]
  },
  {
   "cell_type": "markdown",
   "metadata": {},
   "source": [
    "### Functions\n",
    "\n",
    "This section, we will cover buit-in functions, custom functions, class."
   ]
  },
  {
   "cell_type": "markdown",
   "metadata": {},
   "source": [
    "#### 1. Built-in function\n",
    "\n",
    "Here, we lists just some frequent uses of [built-in function](https://docs.python.org/3/library/functions.html#enumerate)."
   ]
  },
  {
   "cell_type": "code",
   "execution_count": null,
   "metadata": {},
   "outputs": [],
   "source": [
    "import numpy as np\n",
    "\n",
    "data = np.array([5, 5, 12, -9, 23, 56, 14, 11, 0.5])\n",
    "print(data.max())\n",
    "# find maximum number \n",
    "# find minimum number \n",
    "# find average and median\n",
    "# how many number?"
   ]
  },
  {
   "cell_type": "code",
   "execution_count": null,
   "metadata": {},
   "outputs": [],
   "source": [
    "# Import math Library\n",
    "import math\n",
    "\n",
    "# Return the sine value of 30 degrees\n",
    "print(math.sin(math.radians(30)))\n",
    "\n",
    "# Return the sine value of 90 degrees\n",
    "print(math.sin(math.radians(90)))\n",
    "\n",
    "# we are go to plot sin and cosine here"
   ]
  },
  {
   "cell_type": "markdown",
   "metadata": {},
   "source": [
    "#### 2. User defined function\n",
    "\n",
    "Python supports user-defined function allows user to create a block function. The benefits of modulizing functions are to reducing a lengthy program and improving a program managerable. "
   ]
  },
  {
   "cell_type": "markdown",
   "metadata": {},
   "source": [
    "##### 2.1. Defining and calling functions\n",
    "\n",
    "First, defining a function has a structure shown below.\n",
    "\n",
    "```python\n",
    "def <function_name>([<parameters>]):\n",
    "    <statement(s)>\n",
    "```\n",
    "\n",
    "In case a main program and a function created in the same file, calling a function will locate after assigning input variables. Let us start by creating the main program with linear equation."
   ]
  },
  {
   "cell_type": "code",
   "execution_count": null,
   "metadata": {},
   "outputs": [],
   "source": [
    "import numpy as np\n",
    "import matplotlib.pyplot as plt\n",
    "\n",
    "m = 10; x = 24; c = 12\n",
    "x = np.linspace(5, 26, 10)\n",
    "y = m*x + c\n",
    "print(y)\n",
    "\n",
    "plt.plot(y)"
   ]
  },
  {
   "cell_type": "markdown",
   "metadata": {},
   "source": [
    "THe previous example is used for creating python function, namely, \"**linear_plot**\" and \"**plot_line**\"."
   ]
  },
  {
   "cell_type": "code",
   "execution_count": null,
   "metadata": {},
   "outputs": [],
   "source": [
    "import numpy as np\n",
    "import matplotlib.pyplot as plt\n",
    "\n",
    "def linear_plot(m, x, c):\n",
    "\ty = m*x + c\n",
    "\treturn y\n",
    "\n",
    "def plot_line():\n",
    "\treturn y \n",
    "\n",
    "m = 10; x = 24; c = 12\n",
    "x = np.linspace(5, 26, 10)\n",
    "y = linear_plot(m, x, c)\n",
    "print(y)\n",
    "\n",
    "plt.plot(y)"
   ]
  },
  {
   "cell_type": "markdown",
   "metadata": {},
   "source": [
    "Suppose there is more than one function, and we need more than one file to store functions. In this situation, we can store defining function files in a separate folder. To call that function files, we use \"sys\" to manipulate the folder path. \n",
    "\n",
    "```python\n",
    "import sys\n",
    "sys.path.append('./Libs') \n",
    "import functions as f\n",
    "```"
   ]
  },
  {
   "cell_type": "markdown",
   "metadata": {},
   "source": [
    "$$\n",
    "\\begin{align*}\n",
    "\\frac{x^{2}}{a^{2}} +\\frac{y^{2}}{b^{2}} & =1\\\\\n",
    "\\frac{y^{2}}{b^{2}} & =1-\\frac{x^{2}}{a^{2}}\\\\\n",
    "y & =b\\times \\sqrt{1-\\frac{x^{2}}{a^{2}}}\n",
    "\\end{align*}\n",
    "$$\n",
    "Let us create our ellipse function and plot. Short information describing the function can post inside a triple quote and call the information of that function using the print command,\n",
    "\n",
    "```python\n",
    "print(name.__doc__).\n",
    "```"
   ]
  },
  {
   "cell_type": "markdown",
   "metadata": {},
   "source": [
    "```batch\n",
    "# pip install ipython3\n",
    "# python3 -m ipykernel install --user --name=project_1\n",
    "```"
   ]
  },
  {
   "cell_type": "code",
   "execution_count": 20,
   "metadata": {},
   "outputs": [
    {
     "name": "stdout",
     "output_type": "stream",
     "text": [
      "\n",
      "\tcreating simple ellipse function\n",
      "    \n"
     ]
    },
    {
     "data": {
      "text/plain": [
       "<matplotlib.collections.PathCollection at 0x7fb1f6932e60>"
      ]
     },
     "execution_count": 20,
     "metadata": {},
     "output_type": "execute_result"
    },
    {
     "data": {
      "image/png": "[encoded data removed]",
      "text/plain": [
       "<Figure size 640x480 with 1 Axes>"
      ]
     },
     "metadata": {},
     "output_type": "display_data"
    }
   ],
   "source": [
    "import sys\n",
    "sys.path.append('./Libs') \n",
    "import functions as f\n",
    "import numpy as np\n",
    "import matplotlib.pyplot as plt\n",
    "\n",
    "print(f.ellipse.__doc__)\n",
    "\n",
    "b = 100; a = 400\n",
    "x = np.linspace(-400, 400, 2000)\n",
    "y = f.ellipse(b, x, a)\n",
    "# print(y)\n",
    "\n",
    "# plot the ellipse\n",
    "plt.scatter(x, y, color='orange')\n",
    "plt.scatter(x, -y, color='orange')"
   ]
  }
 ],
 "metadata": {
  "kernelspec": {
   "display_name": "project_1",
   "language": "python",
   "name": "project_1"
  },
  "language_info": {
   "codemirror_mode": {
    "name": "ipython",
    "version": 3
   },
   "file_extension": ".py",
   "mimetype": "text/x-python",
   "name": "python",
   "nbconvert_exporter": "python",
   "pygments_lexer": "ipython3",
   "version": "3.10.4"
  },
  "orig_nbformat": 4,
  "vscode": {
   "interpreter": {
    "hash": "916dbcbb3f70747c44a77c7bcd40155683ae19c65e1c03b4aa3499c5328201f1"
   }
  }
 },
 "nbformat": 4,
 "nbformat_minor": 2
}
