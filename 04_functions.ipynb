{
 "cells": [
  {
   "cell_type": "markdown",
   "metadata": {},
   "source": [
    "[![Open In Colab](https://colab.research.google.com/assets/colab-badge.svg)](https://colab.research.google.com/github/PongthepGeo/ML_22/blob/master/04_functions.ipynb)"
   ]
  },
  {
   "cell_type": "markdown",
   "metadata": {},
   "source": [
    "### Functions\n",
    "\n",
    "This section, we will cover buit-in functions, custom functions, class."
   ]
  },
  {
   "cell_type": "markdown",
   "metadata": {},
   "source": [
    "#### 1. Built-in function\n",
    "\n",
    "Here, we lists just some frequent uses of [built-in function](https://docs.python.org/3/library/functions.html#enumerate)."
   ]
  },
  {
   "cell_type": "code",
   "execution_count": 1,
   "metadata": {},
   "outputs": [
    {
     "name": "stdout",
     "output_type": "stream",
     "text": [
      "56.0\n"
     ]
    }
   ],
   "source": [
    "import numpy as np\n",
    "\n",
    "data = np.array([5, 5, 12, -9, 23, 56, 14, 11, 0.5])\n",
    "print(data.max())\n",
    "# find maximum number \n",
    "# find minimum number \n",
    "# find average and median\n",
    "# how many number?"
   ]
  },
  {
   "cell_type": "code",
   "execution_count": 2,
   "metadata": {},
   "outputs": [
    {
     "name": "stdout",
     "output_type": "stream",
     "text": [
      "0.49999999999999994\n",
      "1.0\n"
     ]
    }
   ],
   "source": [
    "# Import math Library\n",
    "import math\n",
    "\n",
    "# Return the sine value of 30 degrees\n",
    "print(math.sin(math.radians(30)))\n",
    "\n",
    "# Return the sine value of 90 degrees\n",
    "print(math.sin(math.radians(90)))\n",
    "\n",
    "# we are go to plot sin and cosine here"
   ]
  },
  {
   "cell_type": "markdown",
   "metadata": {},
   "source": [
    "#### 2. Customized function"
   ]
  },
  {
   "cell_type": "code",
   "execution_count": 2,
   "metadata": {},
   "outputs": [
    {
     "name": "stdout",
     "output_type": "stream",
     "text": [
      "[ 62.          85.33333333 108.66666667 132.         155.33333333\n",
      " 178.66666667 202.         225.33333333 248.66666667 272.        ]\n"
     ]
    },
    {
     "data": {
      "text/plain": [
       "[<matplotlib.lines.Line2D at 0x7f9d79f67640>]"
      ]
     },
     "execution_count": 2,
     "metadata": {},
     "output_type": "execute_result"
    },
    {
     "data": {
      "image/png": "[encoded data removed]",
      "text/plain": [
       "<Figure size 432x288 with 1 Axes>"
      ]
     },
     "metadata": {
      "needs_background": "light"
     },
     "output_type": "display_data"
    }
   ],
   "source": [
    "import numpy as np\n",
    "import matplotlib.pyplot as plt\n",
    "\n",
    "m = 10; x = 24; c = 12\n",
    "x = np.linspace(5, 26, 10)\n",
    "y = m*x + c\n",
    "print(y)\n",
    "\n",
    "plt.plot(y)"
   ]
  },
  {
   "cell_type": "code",
   "execution_count": 4,
   "metadata": {},
   "outputs": [],
   "source": [
    "import numpy as np\n",
    "import matplotlib.pyplot as plt\n",
    "\n",
    "def linear_plot(m, x, c):\n",
    "\ty = m*x + c\n",
    "\treturn y\n",
    "\n",
    "def plot_line():\n",
    "\treturn y \n",
    "\n",
    "m = 10; x = 24; c = 12\n",
    "x = np.linspace(5, 26, 10)\n",
    "y = linear_plot(m, x, c)\n",
    "print(y)\n",
    "\n",
    "plt.plot(y)"
   ]
  },
  {
   "cell_type": "markdown",
   "metadata": {},
   "source": [
    "$$\n",
    "{\\displaystyle {\\frac {x^{2}}{a^{2}}}+{\\frac {y^{2}}{b^{2}}}=1.}\n",
    "$$\n",
    "\n",
    "Let we create our ellipse function and plot."
   ]
  },
  {
   "cell_type": "code",
   "execution_count": 3,
   "metadata": {},
   "outputs": [
    {
     "name": "stdout",
     "output_type": "stream",
     "text": [
      "\n",
      "\tsimple ellipe equation\n",
      "    ccvbdfcbdfgdgfd\n",
      "    \n"
     ]
    }
   ],
   "source": [
    "def ellipse(x, a, y, b):\n",
    "    \"\"\"\n",
    "\tsimple ellipe equation\n",
    "    ccvbdfcbdfgdgfd\n",
    "    \"\"\"\n",
    "    z = 0\n",
    "    return z\n",
    "\n",
    "print(ellipse.__doc__)"
   ]
  },
  {
   "cell_type": "markdown",
   "metadata": {},
   "source": [
    "#### Data visualization\n",
    "\n"
   ]
  }
 ],
 "metadata": {
  "kernelspec": {
   "display_name": "Python 3.8.10 ('project_1': venv)",
   "language": "python",
   "name": "python3"
  },
  "language_info": {
   "codemirror_mode": {
    "name": "ipython",
    "version": 3
   },
   "file_extension": ".py",
   "mimetype": "text/x-python",
   "name": "python",
   "nbconvert_exporter": "python",
   "pygments_lexer": "ipython3",
   "version": "3.8.10"
  },
  "orig_nbformat": 4,
  "vscode": {
   "interpreter": {
    "hash": "6675ebe8d329347567c6ba0976f607b020e4800a700fa002b9c24629bc49987e"
   }
  }
 },
 "nbformat": 4,
 "nbformat_minor": 2
}
