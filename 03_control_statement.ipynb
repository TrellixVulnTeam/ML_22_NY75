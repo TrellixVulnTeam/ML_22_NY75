{
 "cells": [
  {
   "cell_type": "markdown",
   "metadata": {},
   "source": [
    "[![Open In Colab](https://colab.research.google.com/assets/colab-badge.svg)](https://colab.research.google.com/github/PongthepGeo/ML_22/blob/master/03_control_statement.ipynb)"
   ]
  },
  {
   "cell_type": "markdown",
   "metadata": {},
   "source": [
    "## Control statements\n",
    "\n",
    "This section covers control statements integrated list, for-loop, augmented assignments, while loop, continue, brake, if, elif, else, and flow diagrams."
   ]
  },
  {
   "cell_type": "markdown",
   "metadata": {},
   "source": [
    "#### 1. List\n",
    "\n",
    "List in Python is data types stored with multiple elements. In order to access the value in the list, we refer to the stored position as an index.\n",
    "\n",
    "<p align=\"center\">\n",
    "  <img width=\"300\" src=\"pictures/index.png\">\n",
    "</p>"
   ]
  },
  {
   "cell_type": "code",
   "execution_count": null,
   "metadata": {},
   "outputs": [],
   "source": [
    "# data = ['a', 'n', 'k', 'l', 'd', 'z']\n",
    "data = [5, 5, 12, -4, -78, 6]\n",
    "print('access value: ', data[2], 'stored in index 2')\n",
    "print('access value: ', data[-1], 'stored in index -1')\n",
    "print('access value: ', data[-6], 'stored in index -6')"
   ]
  },
  {
   "cell_type": "code",
   "execution_count": null,
   "metadata": {},
   "outputs": [],
   "source": [
    "import matplotlib.pyplot as plt\n",
    "\n",
    "data = [5, 5, 12, -4, -78, 6]\n",
    "plt.plot(data)"
   ]
  },
  {
   "cell_type": "markdown",
   "metadata": {},
   "source": [
    "#### 2. For-loop and augument assigments\n",
    "\n",
    "For-loop in Python is used for iterating stored data one by one, and argument assignments are operators that assign operations for both sides.\n",
    "\n",
    "```python\n",
    "# iteration with number\n",
    "for i = 1 to 10:\n",
    "    <loop body>\n",
    "\n",
    "# iteration with list\n",
    "list = ['a', 'b', 'c', 'd']\n",
    "for i = list:\n",
    "    <loop body>\n",
    "```\n"
   ]
  },
  {
   "cell_type": "code",
   "execution_count": null,
   "metadata": {},
   "outputs": [],
   "source": [
    "# Example of one test in machine learning class\n",
    "student_names = ['Pongthep', 'Net', 'Noo-D', 'Saipan', 'Book', 'Delinew']\n",
    "for i in student_names:\n",
    "\tprint('student participation: ', i)"
   ]
  },
  {
   "cell_type": "code",
   "execution_count": null,
   "metadata": {},
   "outputs": [],
   "source": [
    "score = [67, 81, 84, 88, 90, 82]\n",
    "for i in score:\n",
    "\tprint('score: ', i)"
   ]
  },
  {
   "cell_type": "markdown",
   "metadata": {},
   "source": [
    "Argument assignment refers to += in for-loop, which means storing the value and increasing the value by 1."
   ]
  },
  {
   "cell_type": "code",
   "execution_count": null,
   "metadata": {},
   "outputs": [],
   "source": [
    "count = 0\n",
    "for i in student_names:\n",
    "\tprint('number of student: ', count)\n",
    "\t# count += 1\n",
    "\tcount = count + 1"
   ]
  },
  {
   "cell_type": "markdown",
   "metadata": {},
   "source": [
    "#### 3. While loop, break, and continue\n",
    "\n",
    "While-loop is commonly used for iterating condition statements; it will repeat statements until they reach a decided condition to terminate the loops.\n",
    "\n",
    "```python\n",
    "# basic\n",
    "while <expr>:\n",
    "    <statement(s)>\n",
    "\n",
    "# break and continue\n",
    "while <expr>: # 0\n",
    "    <statement(s)>\n",
    "    <statement(s)>\n",
    "    <statement(s)>\n",
    "    break # break jumps to 1\n",
    "    <statement(s)>\n",
    "    <statement(s)>\n",
    "    continue # continue jumps to 0\n",
    "<statement(s)> # 1\n",
    "```"
   ]
  },
  {
   "cell_type": "code",
   "execution_count": null,
   "metadata": {},
   "outputs": [],
   "source": [
    "student_names = ['Pongthep', 'Net', 'Noo-D', 'Saipan', 'Book', 'Daylinew']\n",
    "\n",
    "while student_names:\n",
    "\tprint(student_names.pop(0))"
   ]
  },
  {
   "cell_type": "markdown",
   "metadata": {},
   "source": [
    "For-loop can access the item in the list, as shown previously. While-loop is another iteration technique that can access data like a for-loop. The list, student_names, contains six items that while-loop can access index by index. We use the built-in function named \"**pop**\" to remove the item in the list, so the while-loop will be terminated when the list is empty."
   ]
  },
  {
   "cell_type": "code",
   "execution_count": null,
   "metadata": {},
   "outputs": [],
   "source": [
    "student_names = ['Pongthep', 'Net', 'Noo-D', 'Saipan', 'Book', 'Daylinew']\n",
    "# print(len(student_names))\n",
    "\n",
    "i = 0\n",
    "while i < len(student_names):\n",
    "\tprint('student name: ', student_names[i])\n",
    "\ti += 1"
   ]
  },
  {
   "cell_type": "markdown",
   "metadata": {},
   "source": [
    "Assigement 1: there is a problem during execution while-loop. Seemingly, the loop cannot stop because **continue** at line 10. Show how to solve this bug."
   ]
  },
  {
   "cell_type": "code",
   "execution_count": null,
   "metadata": {},
   "outputs": [],
   "source": [
    "number = 0\n",
    "\n",
    "while number < 10:\n",
    "    print(number)\n",
    "    if number == 5:\n",
    "        print('found 5')\n",
    "        pass # go to line 6\n",
    "    elif number == 7:\n",
    "        print('found 7')\n",
    "        # number = number - 1\n",
    "        continue # go to line 3\n",
    "    # elif number == 9:\n",
    "    #     print('the lucky number is: ' + str(number))\n",
    "        break # terminate \n",
    "    number += 1"
   ]
  },
  {
   "cell_type": "markdown",
   "metadata": {},
   "source": [
    "#### 4. Flow diagrams and pipeline\n",
    "\n",
    "<p align=\"center\">\n",
    "  <img src=\"pictures/flow.png\">\n",
    "</p>"
   ]
  }
 ],
 "metadata": {
  "kernelspec": {
   "display_name": "Python 3.10.4 64-bit",
   "language": "python",
   "name": "python3"
  },
  "language_info": {
   "codemirror_mode": {
    "name": "ipython",
    "version": 3
   },
   "file_extension": ".py",
   "mimetype": "text/x-python",
   "name": "python",
   "nbconvert_exporter": "python",
   "pygments_lexer": "ipython3",
   "version": "3.10.4"
  },
  "orig_nbformat": 4,
  "vscode": {
   "interpreter": {
    "hash": "916dbcbb3f70747c44a77c7bcd40155683ae19c65e1c03b4aa3499c5328201f1"
   }
  }
 },
 "nbformat": 4,
 "nbformat_minor": 2
}
