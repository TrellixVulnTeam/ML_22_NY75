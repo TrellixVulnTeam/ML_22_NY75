{
 "cells": [
  {
   "cell_type": "markdown",
   "metadata": {},
   "source": [
    "[![Open In Colab](https://colab.research.google.com/assets/colab-badge.svg)](https://colab.research.google.com/github/PongthepGeo/ML_22/blob/master/07_data_visualization.ipynb)"
   ]
  },
  {
   "cell_type": "markdown",
   "metadata": {},
   "source": [
    "### Data visualization\n",
    "\n",
    "Data visualization using **matplotlib** library is one of the most popular visualization in open source community. There are other libraries available such as plotly, seaborn, GGplot, altair, bokeh, and pygal. \n",
    "Once we are familiar with matplotlib, we can compare pros and cons with other visualization libraries.\n",
    "\n",
    "```bat\n",
    "pip install matplotlib\n",
    "pip install seaborn\n",
    "```"
   ]
  },
  {
   "cell_type": "markdown",
   "metadata": {},
   "source": [
    "#### 1. General plot function"
   ]
  },
  {
   "cell_type": "code",
   "execution_count": null,
   "metadata": {},
   "outputs": [],
   "source": [
    "%matplotlib inline\n",
    "\n",
    "import matplotlib.pyplot as plt\n",
    "\n",
    "list_data = [9, 45, 7, 57, 32, 39.8]\n",
    "plt.plot(list_data, linestyle='dotted', color='red')"
   ]
  },
  {
   "cell_type": "markdown",
   "metadata": {},
   "source": [
    "We can call **plot** function to plot a line and can control color and line style using arguments showning below. More details can be found [here](https://matplotlib.org/2.1.2/api/_as_gen/matplotlib.pyplot.plot.html). Matplotlib also provides more plotting options such as axis, legend, and title.\n"
   ]
  },
  {
   "cell_type": "code",
   "execution_count": null,
   "metadata": {},
   "outputs": [],
   "source": [
    "%matplotlib inline\n",
    "\n",
    "import matplotlib.pyplot as plt\n",
    "import numpy as np\n",
    "\n",
    "list_y1 = [9, 45, 7, 57, 32, 39.8]\n",
    "list_y2 = [26, 5, 47, 50, 20, 21]\n",
    "array_x = np.linspace(0, 10, len(list_y1)) # mix numpy array and list to plot\n",
    "\n",
    "plt.subplots(nrows=1, ncols=1, figsize=(5, 5))\n",
    "plt.plot(array_x, list_y1, linestyle='solid', color='green')\n",
    "plt.plot(array_x, list_y2, linestyle='dashdot', color='blue')\n",
    "plt.title('Comparing Data')\n",
    "plt.xlabel('axis x')\n",
    "plt.ylabel('axis y')\n",
    "plt.legend(['data green', 'data blue'])"
   ]
  },
  {
   "cell_type": "markdown",
   "metadata": {},
   "source": [
    "#### 2. Plot data from Pandas\n",
    "\n",
    "Typically, Pandas have built-in plot functions but we found that transforming the data from Pandas dataframe into Python numpy array can provide more control.\n",
    "\n",
    "Let's import one example of well log data and visualize a scattering plot between column name **GR** and **ILD_log10**."
   ]
  },
  {
   "cell_type": "markdown",
   "metadata": {},
   "source": [
    "```bash\n",
    "pip install pandas\n",
    "```"
   ]
  },
  {
   "cell_type": "code",
   "execution_count": null,
   "metadata": {},
   "outputs": [],
   "source": [
    "%matplotlib inline\n",
    "\n",
    "import pandas as pd\n",
    "import matplotlib.pyplot as plt\n",
    "import numpy as np"
   ]
  },
  {
   "cell_type": "code",
   "execution_count": null,
   "metadata": {},
   "outputs": [],
   "source": [
    "data = pd.read_csv('../datasets/welllog_csv/welllogs.csv')"
   ]
  },
  {
   "cell_type": "markdown",
   "metadata": {},
   "source": [
    "Exploring data."
   ]
  },
  {
   "cell_type": "code",
   "execution_count": null,
   "metadata": {},
   "outputs": [],
   "source": [
    "# NOTE explore data information\n",
    "print(data.describe())\n",
    "# NOTE check number of NaN\n",
    "null_value_stats = data.isnull().sum(axis=0)\n",
    "print(null_value_stats[null_value_stats != 0])\n",
    "# NOTE check data types\n",
    "print(data.dtypes)\n",
    "# NOTE check well names\n",
    "well_names = data['Well Name'].unique()\n",
    "print(well_names)"
   ]
  },
  {
   "cell_type": "code",
   "execution_count": null,
   "metadata": {},
   "outputs": [],
   "source": [
    "log_1 = ['GR']\n",
    "log_1 = data[log_1]\n",
    "log_1 = log_1.to_numpy() # conversion \n",
    "print(type(log_1))\n",
    "\n",
    "log_2 = ['ILD_log10']\n",
    "log_2 = data[log_2]\n",
    "log_2 = log_2.to_numpy() # conversion\n",
    "print(type(log_2))"
   ]
  },
  {
   "cell_type": "code",
   "execution_count": null,
   "metadata": {},
   "outputs": [],
   "source": [
    "plt.subplots(nrows=1, ncols=1, figsize=(8, 8))\n",
    "plt.scatter(log_1, log_2, s=30, edgecolors='black')\n",
    "plt.title('Scatter Plot')\n",
    "plt.xlabel('GR')\n",
    "plt.ylabel('Resistivity')"
   ]
  },
  {
   "cell_type": "markdown",
   "metadata": {},
   "source": [
    "Since we understand a simple scatter plot, this time we will plot the two pair data, **DeltaPHI**/**GR** and **PHIND**/**GR**."
   ]
  },
  {
   "cell_type": "code",
   "execution_count": null,
   "metadata": {},
   "outputs": [],
   "source": [
    "%matplotlib inline\n",
    "\n",
    "import pandas as pd\n",
    "import matplotlib.pyplot as plt\n",
    "import numpy as np\n",
    "\n",
    "data = pd.read_csv('../datasets/welllog_csv/welllogs.csv')\n",
    "\n",
    "# plt.close()\n",
    "plt.subplots(nrows=1, ncols=1, figsize=(8, 8))\n",
    "plt.scatter(data['PHIND'].to_numpy(), data['GR'].to_numpy(), s=30, edgecolors='black', c='red', alpha=1.0, marker='X')\n",
    "plt.scatter(data['DeltaPHI'].to_numpy(), data['GR'].to_numpy(), s=30, edgecolors='black', c='orange', alpha=1.0, marker='>')\n",
    "plt.title('Scatter Plot')\n",
    "plt.xlabel('PHIND/DeltaPHI')\n",
    "plt.ylabel('GR')\n",
    "plt.legend(['red cross', 'orange arrow'])"
   ]
  },
  {
   "cell_type": "markdown",
   "metadata": {},
   "source": [
    "#### 3. Useful scientific plots"
   ]
  },
  {
   "cell_type": "code",
   "execution_count": null,
   "metadata": {},
   "outputs": [],
   "source": [
    "import numpy as np\n",
    "import matplotlib.pyplot as plt\n",
    "\n",
    "# Fixing random state for reproducibility\n",
    "np.random.seed(19680801)\n",
    "\n",
    "# Compute pie slices\n",
    "N = 20\n",
    "theta = np.linspace(0.0, 2 * np.pi, N, endpoint=False)\n",
    "radii = 10 * np.random.rand(N)\n",
    "width = np.pi / 4 * np.random.rand(N)\n",
    "colors = plt.cm.rainbow(radii / 10.)\n",
    "\n",
    "ax = plt.subplot(projection='polar')\n",
    "ax.bar(theta, radii, width=width, bottom=0.0, color=colors, alpha=0.5)\n",
    "\n",
    "plt.show()"
   ]
  },
  {
   "cell_type": "markdown",
   "metadata": {},
   "source": [
    "```bash\n",
    "pip install seaborn\n",
    "python -m pip install statsmodels \n",
    "```"
   ]
  },
  {
   "cell_type": "code",
   "execution_count": null,
   "metadata": {},
   "outputs": [],
   "source": [
    "%matplotlib inline\n",
    "\n",
    "import pandas as pd\n",
    "import matplotlib.pyplot as plt\n",
    "import seaborn as sns\n",
    "\n",
    "data = pd.read_csv('../datasets/welllog_csv/welllogs.csv')\n",
    "\n",
    "# Plot\n",
    "sns.set_style(\"white\")\n",
    "gridobj = sns.lmplot(x=\"ILD_log10\", y=\"DeltaPHI\", data=data.iloc[::100, 5:7], \n",
    "                     height=7, aspect=1.6, robust=True, palette='tab10', \n",
    "                     scatter_kws=dict(s=40, linewidths=.7, edgecolors='black'))\n",
    "\n",
    "# Decorations\n",
    "# gridobj.set(xlim=(0.5, 7.5), ylim=(0, 50))\n",
    "plt.title(\"Scatter plot with linear best fit\", fontsize=20)\n",
    "plt.show()"
   ]
  },
  {
   "cell_type": "code",
   "execution_count": null,
   "metadata": {},
   "outputs": [],
   "source": [
    "%matplotlib inline\n",
    "\n",
    "import pandas as pd\n",
    "import matplotlib.pyplot as plt\n",
    "import seaborn as sns\n",
    "sns.set_theme(style=\"darkgrid\")\n",
    "\n",
    "data = pd.read_csv('../datasets/welllog_csv/welllogs.csv')\n",
    "\n",
    "gridobj = sns.jointplot(x=\"ILD_log10\", y=\"DeltaPHI\", data=data.iloc[::100, 5:7], kind=\"reg\", truncate=False)  \n",
    "plt.show()"
   ]
  },
  {
   "cell_type": "code",
   "execution_count": null,
   "metadata": {},
   "outputs": [],
   "source": [
    "import numpy as np\n",
    "\n",
    "df = pd.read_csv(\"https://github.com/selva86/datasets/raw/master/mpg_ggplot2.csv\")\n",
    "\n",
    "# Prepare data\n",
    "x_var = 'displ'\n",
    "groupby_var = 'class'\n",
    "df_agg = df.loc[:, [x_var, groupby_var]].groupby(groupby_var)\n",
    "vals = [df[x_var].values.tolist() for i, df in df_agg]\n",
    "\n",
    "# Draw\n",
    "plt.figure(figsize=(16,9), dpi= 80)\n",
    "colors = [plt.cm.Spectral(i/float(len(vals)-1)) for i in range(len(vals))]\n",
    "n, bins, patches = plt.hist(vals, 30, stacked=True, density=False, color=colors[:len(vals)])\n",
    "\n",
    "# Decoration\n",
    "plt.legend({group:col for group, col in zip(np.unique(df[groupby_var]).tolist(), colors[:len(vals)])})\n",
    "plt.title(f\"Stacked Histogram of ${x_var}$ colored by ${groupby_var}$\", fontsize=22)\n",
    "plt.xlabel(x_var)\n",
    "plt.ylabel(\"Frequency\")\n",
    "plt.ylim(0, 25)\n",
    "plt.xticks(ticks=bins[::3], labels=[round(b,1) for b in bins[::3]])\n",
    "plt.show()"
   ]
  },
  {
   "cell_type": "code",
   "execution_count": null,
   "metadata": {},
   "outputs": [],
   "source": [
    "df = pd.read_csv(\"https://github.com/selva86/datasets/raw/master/mpg_ggplot2.csv\")\n",
    "\n",
    "# Draw Plot\n",
    "plt.figure(figsize=(13,10), dpi= 80)\n",
    "sns.boxplot(x='class', y='hwy', data=df, hue='cyl')\n",
    "sns.stripplot(x='class', y='hwy', data=df, color='black', size=3, jitter=1)\n",
    "\n",
    "for i in range(len(df['class'].unique())-1):\n",
    "    plt.vlines(i+.5, 10, 45, linestyles='solid', colors='gray', alpha=0.2)\n",
    "\n",
    "# Decoration\n",
    "plt.title('Box Plot of Highway Mileage by Vehicle Class', fontsize=22)\n",
    "plt.legend(title='Cylinders')\n",
    "plt.show()"
   ]
  },
  {
   "cell_type": "markdown",
   "metadata": {},
   "source": [
    "##### These two data visualizations represent well logs."
   ]
  },
  {
   "cell_type": "markdown",
   "metadata": {},
   "source": [
    "<p align=\"center\">\n",
    "  <img width=\"500\" src=\"pictures/scatter_9_facies.png\">\n",
    "</p>\n",
    "\n",
    "<p align=\"center\">\n",
    "  <img width=\"500\" src=\"pictures/Newby.svg\">\n",
    "</p>"
   ]
  }
 ],
 "metadata": {
  "kernelspec": {
   "display_name": "Python 3.10.4 64-bit",
   "language": "python",
   "name": "python3"
  },
  "language_info": {
   "codemirror_mode": {
    "name": "ipython",
    "version": 3
   },
   "file_extension": ".py",
   "mimetype": "text/x-python",
   "name": "python",
   "nbconvert_exporter": "python",
   "pygments_lexer": "ipython3",
   "version": "3.10.4"
  },
  "orig_nbformat": 4,
  "vscode": {
   "interpreter": {
    "hash": "916dbcbb3f70747c44a77c7bcd40155683ae19c65e1c03b4aa3499c5328201f1"
   }
  }
 },
 "nbformat": 4,
 "nbformat_minor": 2
}
