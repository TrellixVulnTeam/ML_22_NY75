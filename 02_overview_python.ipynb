{
 "cells": [
  {
   "cell_type": "markdown",
   "metadata": {},
   "source": [
    "[![Open In Colab](https://colab.research.google.com/assets/colab-badge.svg)](https://colab.research.google.com/github/PongthepGeo/ML_22/blob/master/02_overview_python.ipynb)"
   ]
  },
  {
   "cell_type": "markdown",
   "metadata": {},
   "source": [
    "## Overview Python\n",
    "\n",
    "Recap what we had studied Python from computer programming, we are going to cover variables, assigment statements, types, arithmetrics, and decision making."
   ]
  },
  {
   "cell_type": "markdown",
   "metadata": {},
   "source": [
    "#### 1. Variables and assigment statements\n",
    "\n",
    "The mathetematic equation of the Newton's secound law can express as the equation below\n",
    "\n",
    "$$\n",
    "F = ma\n",
    "$$\n",
    "\n",
    "We define $F$ (forace) as a product of $m$ (mass) multiples with $a$ (accerlation). Python relates this mathematic expression as variables $F$, $m$, and $a$, respectively. The assigment statment refers to **LHD** stores values or variables from the **RHD**."
   ]
  },
  {
   "cell_type": "code",
   "execution_count": null,
   "metadata": {},
   "outputs": [],
   "source": [
    "x = 10 + 20\n",
    "print('output: ', x)"
   ]
  },
  {
   "cell_type": "markdown",
   "metadata": {},
   "source": [
    "This example cannot compile when switching **LHD** and **RHD**."
   ]
  },
  {
   "cell_type": "code",
   "execution_count": null,
   "metadata": {},
   "outputs": [],
   "source": [
    "10 + 20 = x\n",
    "print('output: ', x)"
   ]
  },
  {
   "cell_type": "markdown",
   "metadata": {},
   "source": [
    "Let's us finish the equation."
   ]
  },
  {
   "cell_type": "code",
   "execution_count": null,
   "metadata": {},
   "outputs": [],
   "source": [
    "# predefine variables\n",
    "x = 10\n",
    "a = 9.81\n",
    "F = x*a\n",
    "print('Force: ', F, 'unit')"
   ]
  },
  {
   "cell_type": "markdown",
   "metadata": {},
   "source": [
    "#### 2. Variable name, argument, and type\n",
    "\n",
    "Type is a buit-in function in Python that is used for verify class or type of variable. "
   ]
  },
  {
   "cell_type": "code",
   "execution_count": null,
   "metadata": {},
   "outputs": [],
   "source": [
    "print('type of variable x is ', type(x), ' and x is called identifier')"
   ]
  },
  {
   "cell_type": "code",
   "execution_count": null,
   "metadata": {},
   "outputs": [],
   "source": [
    "print('type of variable a is ', type(a), ' and a is called identifier')"
   ]
  },
  {
   "cell_type": "code",
   "execution_count": null,
   "metadata": {},
   "outputs": [],
   "source": [
    "print('type of variable F is ', type(F), ' and F is called identifier')"
   ]
  },
  {
   "cell_type": "markdown",
   "metadata": {},
   "source": [
    "Buit-in **type** identifies interger and floating-piont number. Definitions of both classes will be explianed in the section \"**classes**\"."
   ]
  },
  {
   "cell_type": "markdown",
   "metadata": {},
   "source": [
    "#### 3. Arithmemic operator\n",
    "\n",
    "<p align=\"center\">\n",
    "  <img width=\"300\" src=\"pictures/arithmetic.png\">\n",
    "</p>\n",
    "\n",
    "Python uses these arithemic calculations for computing algebra. Please explore these the operator examples and modify the cell below.\n"
   ]
  },
  {
   "cell_type": "code",
   "execution_count": null,
   "metadata": {},
   "outputs": [],
   "source": [
    "m = 100; a = 9.81\n",
    "F = m/a\n",
    "print('F =  ', F)"
   ]
  },
  {
   "cell_type": "markdown",
   "metadata": {},
   "source": [
    "### 3. Decision making (if, elif, else statements)\n",
    "\n",
    "<p align=\"center\">\n",
    "  <img width=\"500\" src=\"pictures/make.png\">\n",
    "</p>\n",
    "\n",
    "If, elif statements are used to perform different conditions. For classic examples, grading policy is commonly used to classify examinee performances."
   ]
  },
  {
   "cell_type": "markdown",
   "metadata": {},
   "source": [
    "Assigment 1: create condition statement that can manipulate the grading policy."
   ]
  },
  {
   "cell_type": "code",
   "execution_count": null,
   "metadata": {},
   "outputs": [],
   "source": [
    "# input score\n",
    "score = 91\n",
    "# letter grade A\n",
    "grade = 'F'\n",
    "if score >= 80:\n",
    "    print('your letter grade is ', grade )\n",
    "elif score >= 75:\n",
    "    print('your letter grade is ', grade )"
   ]
  }
 ],
 "metadata": {
  "kernelspec": {
   "display_name": "Python 3.8.10 64-bit",
   "language": "python",
   "name": "python3"
  },
  "language_info": {
   "codemirror_mode": {
    "name": "ipython",
    "version": 3
   },
   "file_extension": ".py",
   "mimetype": "text/x-python",
   "name": "python",
   "nbconvert_exporter": "python",
   "pygments_lexer": "ipython3",
   "version": "3.8.10"
  },
  "orig_nbformat": 4,
  "vscode": {
   "interpreter": {
    "hash": "916dbcbb3f70747c44a77c7bcd40155683ae19c65e1c03b4aa3499c5328201f1"
   }
  }
 },
 "nbformat": 4,
 "nbformat_minor": 2
}
