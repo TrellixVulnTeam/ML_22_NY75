{
 "cells": [
  {
   "cell_type": "markdown",
   "metadata": {},
   "source": [
    "[![Open In Colab](https://colab.research.google.com/assets/colab-badge.svg)](https://colab.research.google.com/github/PongthepGeo/ML_22/blob/master/01_setup_colab.ipynb)"
   ]
  },
  {
   "cell_type": "markdown",
   "metadata": {},
   "source": [
    "## Setup colab\n",
    "\n",
    "Colab provides a user friendly environement to connect among google drive, google colab, and github. To setup the system, we should have three accounts before hand."
   ]
  },
  {
   "cell_type": "code",
   "execution_count": null,
   "metadata": {},
   "outputs": [],
   "source": [
    "# locate your personal GD\n",
    "try:\n",
    "    from google.colab import drive\n",
    "    drive.mount('/content/drive', force_remount=True)\n",
    "    COLAB = True\n",
    "    print(\"Note: using Google CoLab\")\n",
    "except:\n",
    "    print(\"Note: not using Google CoLab\")\n",
    "    COLAB = False"
   ]
  },
  {
   "cell_type": "markdown",
   "metadata": {},
   "source": [
    "Exclamation mark, ! execute comman line in terminal.\n",
    "\n",
    "```bat\n",
    "!nvidia-smi -L # check CUDA (in case running on GPU)\n",
    "# change directory\n",
    "!cd /content/drive/MyDrive/ML-2022\n",
    "# list files in the directory\n",
    "!ls\n",
    "# list installe Python packages\n",
    "!pip list\n",
    "# check Python version\n",
    "!python --version\n",
    "# install Python packages \n",
    "!pip install <... packages>\n",
    "```"
   ]
  }
 ],
 "metadata": {
  "kernelspec": {
   "display_name": "Python 3.8.10 64-bit",
   "language": "python",
   "name": "python3"
  },
  "language_info": {
   "name": "python",
   "version": "3.8.10"
  },
  "orig_nbformat": 4,
  "vscode": {
   "interpreter": {
    "hash": "31f2aee4e71d21fbe5cf8b01ff0e069b9275f58929596ceb00d14d90e3e16cd6"
   }
  }
 },
 "nbformat": 4,
 "nbformat_minor": 2
}
